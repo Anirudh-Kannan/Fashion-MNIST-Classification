{
  "nbformat": 4,
  "nbformat_minor": 0,
  "metadata": {
    "colab": {
      "name": "MNIST.ipynb",
      "version": "0.3.2",
      "provenance": [],
      "collapsed_sections": [
        "eDfUSUbCghxY",
        "k1JufVwHgzKO",
        "0Ljhdyhtg58i",
        "kU1xBcPYhAm0",
        "9JbrLx21hTTq",
        "WtySs4RyhFBR"
      ],
      "include_colab_link": true
    },
    "kernelspec": {
      "name": "python3",
      "display_name": "Python 3"
    },
    "accelerator": "GPU"
  },
  "cells": [
    {
      "cell_type": "markdown",
      "metadata": {
        "id": "view-in-github",
        "colab_type": "text"
      },
      "source": [
        "<a href=\"https://colab.research.google.com/github/Anirudh-Kannan/Fashion-MNIST-Classification/blob/master/MNIST.ipynb\" target=\"_parent\"><img src=\"https://colab.research.google.com/assets/colab-badge.svg\" alt=\"Open In Colab\"/></a>"
      ]
    },
    {
      "cell_type": "markdown",
      "metadata": {
        "id": "pTQXlqymf46W",
        "colab_type": "text"
      },
      "source": [
        "#MNIST Database  - Basic Classification "
      ]
    },
    {
      "cell_type": "markdown",
      "metadata": {
        "id": "eDfUSUbCghxY",
        "colab_type": "text"
      },
      "source": [
        "###Import Statements"
      ]
    },
    {
      "cell_type": "code",
      "metadata": {
        "id": "vWI88hvx1N4A",
        "colab_type": "code",
        "colab": {}
      },
      "source": [
        "import tensorflow as tf\n",
        "from tensorflow import keras"
      ],
      "execution_count": 0,
      "outputs": []
    },
    {
      "cell_type": "code",
      "metadata": {
        "id": "oLatvdX512qA",
        "colab_type": "code",
        "colab": {}
      },
      "source": [
        "import numpy as np\n",
        "import matplotlib.pyplot as plt"
      ],
      "execution_count": 0,
      "outputs": []
    },
    {
      "cell_type": "markdown",
      "metadata": {
        "id": "k1JufVwHgzKO",
        "colab_type": "text"
      },
      "source": [
        "###Loading Dataset"
      ]
    },
    {
      "cell_type": "code",
      "metadata": {
        "id": "ARk7ekWI2DJe",
        "colab_type": "code",
        "outputId": "8d7ee2a9-1c06-4d57-ea18-3ef61ba60a9e",
        "colab": {
          "base_uri": "https://localhost:8080/",
          "height": 34
        }
      },
      "source": [
        "print(tf.version)"
      ],
      "execution_count": 0,
      "outputs": [
        {
          "output_type": "stream",
          "text": [
            "<module 'tensorflow._api.v1.version' from '/usr/local/lib/python3.6/dist-packages/tensorflow/_api/v1/version/__init__.py'>\n"
          ],
          "name": "stdout"
        }
      ]
    },
    {
      "cell_type": "code",
      "metadata": {
        "id": "9OAKRSyQ2yLI",
        "colab_type": "code",
        "colab": {}
      },
      "source": [
        "fashion_mnist = keras.datasets.fashion_mnist"
      ],
      "execution_count": 0,
      "outputs": []
    },
    {
      "cell_type": "code",
      "metadata": {
        "id": "xiFi5L4w2Gyr",
        "colab_type": "code",
        "outputId": "a4eb4041-65b9-459c-d1c8-153278e24c6c",
        "colab": {
          "base_uri": "https://localhost:8080/",
          "height": 156
        }
      },
      "source": [
        "(x_train, y_train), (x_test, y_test) = fashion_mnist.load_data()"
      ],
      "execution_count": 0,
      "outputs": [
        {
          "output_type": "stream",
          "text": [
            "Downloading data from https://storage.googleapis.com/tensorflow/tf-keras-datasets/train-labels-idx1-ubyte.gz\n",
            "32768/29515 [=================================] - 0s 0us/step\n",
            "Downloading data from https://storage.googleapis.com/tensorflow/tf-keras-datasets/train-images-idx3-ubyte.gz\n",
            "26427392/26421880 [==============================] - 0s 0us/step\n",
            "Downloading data from https://storage.googleapis.com/tensorflow/tf-keras-datasets/t10k-labels-idx1-ubyte.gz\n",
            "8192/5148 [===============================================] - 0s 0us/step\n",
            "Downloading data from https://storage.googleapis.com/tensorflow/tf-keras-datasets/t10k-images-idx3-ubyte.gz\n",
            "4423680/4422102 [==============================] - 0s 0us/step\n"
          ],
          "name": "stdout"
        }
      ]
    },
    {
      "cell_type": "code",
      "metadata": {
        "id": "Qfa1kEvG3OMl",
        "colab_type": "code",
        "colab": {}
      },
      "source": [
        "class_names = ['T-shirt/top', 'Trouser', 'Pullover', 'Dress', 'Coat', \n",
        "               'Sandal', 'Shirt', 'Sneaker', 'Bag', 'Ankle boot']\n"
      ],
      "execution_count": 0,
      "outputs": []
    },
    {
      "cell_type": "code",
      "metadata": {
        "id": "hqh_bt0j3lA_",
        "colab_type": "code",
        "outputId": "e75f5e30-6899-4d5f-8057-2743fa449c48",
        "colab": {
          "base_uri": "https://localhost:8080/",
          "height": 34
        }
      },
      "source": [
        "x_train.shape"
      ],
      "execution_count": 0,
      "outputs": [
        {
          "output_type": "execute_result",
          "data": {
            "text/plain": [
              "(60000, 28, 28)"
            ]
          },
          "metadata": {
            "tags": []
          },
          "execution_count": 14
        }
      ]
    },
    {
      "cell_type": "code",
      "metadata": {
        "id": "-OPoAQtn4IkY",
        "colab_type": "code",
        "outputId": "f99d3a71-41a9-44b2-a48a-ca69ffb36362",
        "colab": {
          "base_uri": "https://localhost:8080/",
          "height": 34
        }
      },
      "source": [
        "y_train.shape"
      ],
      "execution_count": 0,
      "outputs": [
        {
          "output_type": "execute_result",
          "data": {
            "text/plain": [
              "(60000,)"
            ]
          },
          "metadata": {
            "tags": []
          },
          "execution_count": 17
        }
      ]
    },
    {
      "cell_type": "code",
      "metadata": {
        "id": "SmVYZYD04NO4",
        "colab_type": "code",
        "outputId": "8e9458b6-5428-4ed7-f93e-646640d0e034",
        "colab": {
          "base_uri": "https://localhost:8080/",
          "height": 269
        }
      },
      "source": [
        "plt.figure()\n",
        "plt.imshow(x_train[0])\n",
        "plt.colorbar()\n",
        "plt.show()"
      ],
      "execution_count": 0,
      "outputs": [
        {
          "output_type": "display_data",
          "data": {
            "image/png": "[encoded data removed]",
            "text/plain": [
              "<Figure size 432x288 with 2 Axes>"
            ]
          },
          "metadata": {
            "tags": []
          }
        }
      ]
    },
    {
      "cell_type": "markdown",
      "metadata": {
        "id": "0Ljhdyhtg58i",
        "colab_type": "text"
      },
      "source": [
        "###Defining Model\n"
      ]
    },
    {
      "cell_type": "code",
      "metadata": {
        "id": "6F6ETZ0w5Z6t",
        "colab_type": "code",
        "outputId": "1448bde0-b424-44bc-949b-b59d896ca604",
        "colab": {
          "base_uri": "https://localhost:8080/",
          "height": 89
        }
      },
      "source": [
        "model = keras.Sequential([\n",
        "keras.layers.Flatten(input_shape = (28,28)),\n",
        "keras.layers.Dense(128, tf.nn.relu),\n",
        "keras.layers.Dense(10, tf.nn.softmax)\n",
        "])"
      ],
      "execution_count": 0,
      "outputs": [
        {
          "output_type": "stream",
          "text": [
            "WARNING:tensorflow:From /usr/local/lib/python3.6/dist-packages/tensorflow/python/ops/resource_variable_ops.py:435: colocate_with (from tensorflow.python.framework.ops) is deprecated and will be removed in a future version.\n",
            "Instructions for updating:\n",
            "Colocations handled automatically by placer.\n"
          ],
          "name": "stdout"
        }
      ]
    },
    {
      "cell_type": "code",
      "metadata": {
        "id": "eHg3jQeD4_8g",
        "colab_type": "code",
        "colab": {}
      },
      "source": [
        "x_train = x_train/255\n",
        "x_test = x_test/255"
      ],
      "execution_count": 0,
      "outputs": []
    },
    {
      "cell_type": "markdown",
      "metadata": {
        "id": "kU1xBcPYhAm0",
        "colab_type": "text"
      },
      "source": [
        "###Training"
      ]
    },
    {
      "cell_type": "code",
      "metadata": {
        "id": "FX_hgMV86WVk",
        "colab_type": "code",
        "colab": {}
      },
      "source": [
        "model.compile(optimizer='adam', loss='sparse_categorical_crossentropy', metrics=['accuracy'])"
      ],
      "execution_count": 0,
      "outputs": []
    },
    {
      "cell_type": "code",
      "metadata": {
        "id": "pRXdzkjN6tN-",
        "colab_type": "code",
        "outputId": "eafe70f5-c0bd-49e0-c3c4-9c32b7087ee8",
        "colab": {
          "base_uri": "https://localhost:8080/",
          "height": 382
        }
      },
      "source": [
        "model.fit(x_train, y_train, epochs = 10)"
      ],
      "execution_count": 0,
      "outputs": [
        {
          "output_type": "stream",
          "text": [
            "Epoch 1/10\n",
            "60000/60000 [==============================] - 6s 97us/sample - loss: 0.4950 - acc: 0.8270\n",
            "Epoch 2/10\n",
            "60000/60000 [==============================] - 5s 83us/sample - loss: 0.3742 - acc: 0.8650\n",
            "Epoch 3/10\n",
            "60000/60000 [==============================] - 5s 82us/sample - loss: 0.3353 - acc: 0.8768\n",
            "Epoch 4/10\n",
            "60000/60000 [==============================] - 5s 82us/sample - loss: 0.3091 - acc: 0.8868\n",
            "Epoch 5/10\n",
            "60000/60000 [==============================] - 5s 82us/sample - loss: 0.2932 - acc: 0.8919\n",
            "Epoch 6/10\n",
            "60000/60000 [==============================] - 5s 82us/sample - loss: 0.2811 - acc: 0.8962\n",
            "Epoch 7/10\n",
            "60000/60000 [==============================] - 5s 82us/sample - loss: 0.2667 - acc: 0.9007\n",
            "Epoch 8/10\n",
            "60000/60000 [==============================] - 5s 82us/sample - loss: 0.2559 - acc: 0.9051\n",
            "Epoch 9/10\n",
            "60000/60000 [==============================] - 5s 82us/sample - loss: 0.2469 - acc: 0.9081\n",
            "Epoch 10/10\n",
            "60000/60000 [==============================] - 5s 81us/sample - loss: 0.2371 - acc: 0.9112\n"
          ],
          "name": "stdout"
        },
        {
          "output_type": "execute_result",
          "data": {
            "text/plain": [
              "<tensorflow.python.keras.callbacks.History at 0x7f0976b5b630>"
            ]
          },
          "metadata": {
            "tags": []
          },
          "execution_count": 24
        }
      ]
    },
    {
      "cell_type": "markdown",
      "metadata": {
        "id": "9JbrLx21hTTq",
        "colab_type": "text"
      },
      "source": [
        "###Testing\n"
      ]
    },
    {
      "cell_type": "code",
      "metadata": {
        "id": "BZIsdpuH6ztf",
        "colab_type": "code",
        "outputId": "7a9f83d8-de9a-42bb-d8fc-f8d9eb95f3d1",
        "colab": {
          "base_uri": "https://localhost:8080/",
          "height": 34
        }
      },
      "source": [
        "(test_loss, test_accuracy) = model.evaluate(x_test, y_test)"
      ],
      "execution_count": 0,
      "outputs": [
        {
          "output_type": "stream",
          "text": [
            "10000/10000 [==============================] - 0s 48us/sample - loss: 0.3410 - acc: 0.8829\n"
          ],
          "name": "stdout"
        }
      ]
    },
    {
      "cell_type": "code",
      "metadata": {
        "id": "lFKLP6228nR5",
        "colab_type": "code",
        "colab": {}
      },
      "source": [
        "predictions = model.predict(np.expand_dims(x_test[0],0))"
      ],
      "execution_count": 0,
      "outputs": []
    },
    {
      "cell_type": "code",
      "metadata": {
        "id": "TkWnMAT-8wFd",
        "colab_type": "code",
        "outputId": "beee95bd-7021-40f8-cd34-88f375334de2",
        "colab": {
          "base_uri": "https://localhost:8080/",
          "height": 52
        }
      },
      "source": [
        "class_names[np.argmax(predictions)]\n",
        "print(predictions)"
      ],
      "execution_count": 0,
      "outputs": [
        {
          "output_type": "stream",
          "text": [
            "[[3.0709377e-06 9.5892283e-10 6.4568326e-07 1.0717765e-11 7.6354257e-07\n",
            "  2.0664043e-03 3.4273506e-07 6.3922994e-02 2.0094241e-07 9.3400550e-01]]\n"
          ],
          "name": "stdout"
        }
      ]
    },
    {
      "cell_type": "code",
      "metadata": {
        "id": "u3c_LY_D9Dev",
        "colab_type": "code",
        "outputId": "938ed2b5-8b9b-4a91-88cf-a566c21dd616",
        "colab": {
          "base_uri": "https://localhost:8080/",
          "height": 34
        }
      },
      "source": [
        "np.argmax(predictions)"
      ],
      "execution_count": 0,
      "outputs": [
        {
          "output_type": "execute_result",
          "data": {
            "text/plain": [
              "9"
            ]
          },
          "metadata": {
            "tags": []
          },
          "execution_count": 40
        }
      ]
    },
    {
      "cell_type": "markdown",
      "metadata": {
        "id": "WtySs4RyhFBR",
        "colab_type": "text"
      },
      "source": [
        "###Saving the model"
      ]
    },
    {
      "cell_type": "code",
      "metadata": {
        "id": "gN1YJj-5-4yl",
        "colab_type": "code",
        "colab": {}
      },
      "source": [
        "model.save(\"model.h5\")"
      ],
      "execution_count": 0,
      "outputs": []
    },
    {
      "cell_type": "code",
      "metadata": {
        "id": "UzL8gXRQ_zUm",
        "colab_type": "code",
        "colab": {}
      },
      "source": [
        "from google.colab import files\n",
        "files.download(\"model.h5\")"
      ],
      "execution_count": 0,
      "outputs": []
    }
  ]
}